{
 "cells": [
  {
   "cell_type": "markdown",
   "id": "e0d5f030-4e88-44f5-a24b-a2eb98e0e07c",
   "metadata": {},
   "source": [
    "# Exercise 1: Prime Numbers\n",
    "Write a Python program that checks whether a given number is prime or not. A prime number is a natural number greater than 1 that has no positive divisors other than 1 and itself."
   ]
  },
  {
   "cell_type": "code",
   "execution_count": 5,
   "id": "7df9d644-df1c-45a8-b115-5a2a13cd95ff",
   "metadata": {},
   "outputs": [
    {
     "name": "stdin",
     "output_type": "stream",
     "text": [
      "Enter the number: 2\n"
     ]
    },
    {
     "name": "stdout",
     "output_type": "stream",
     "text": [
      "2 is not a prime number\n"
     ]
    }
   ],
   "source": [
    "def is_prime(number):\n",
    "    if number <= 1:\n",
    "        return False\n",
    "    for i in range(2,number):\n",
    "        if number % i == 0:\n",
    "            return True\n",
    "num = int(input('Enter the number:'))\n",
    "if is_prime(num):\n",
    "    print(f\"{num} is a prime number\")\n",
    "else:\n",
    "    print(f\"{num} is not a prime number\")"
   ]
  },
  {
   "cell_type": "markdown",
   "id": "db619dfb-309b-4a0b-bd46-982c73b3e8d0",
   "metadata": {},
   "source": [
    "# Exercise 2: Product of Random Numbers\n",
    "Develop a Python program that generates two random numbers and asks the user to enter the product of these numbers. The program should then check \n",
    "if the user's answer is correct and display an appropriate message."
   ]
  },
  {
   "cell_type": "code",
   "execution_count": 16,
   "id": "7697ba49-8bce-4394-89f3-469bab82380c",
   "metadata": {},
   "outputs": [
    {
     "name": "stdin",
     "output_type": "stream",
     "text": [
      "Enter the number 2\n",
      "Enter the number 10\n",
      "Enter the answer 20\n"
     ]
    },
    {
     "name": "stdout",
     "output_type": "stream",
     "text": [
      "Answer is correct\n"
     ]
    }
   ],
   "source": [
    "num1 = int(input('Enter the number'))\n",
    "num2 = int(input('Enter the number'))\n",
    "product = num1 * num2\n",
    "user_answer = int(input('Enter the answer'))\n",
    "if user_answer == product:\n",
    "    print('Answer is correct')\n",
    "else:\n",
    "    print('Answer is incorrect')"
   ]
  },
  {
   "cell_type": "markdown",
   "id": "948dbb0a-181c-4175-806f-1b61322e84f1",
   "metadata": {},
   "source": [
    "# Exercise 3: Squares of Even/Odd Numbers\n",
    "Create a Python script that prints the squares of all even or odd numbers within the range of 100 to 200. Choose either even or odd numbers and document your choice in the code."
   ]
  },
  {
   "cell_type": "code",
   "execution_count": 37,
   "id": "5f1abae1-f997-4ee9-b9c4-38b533bb1e4f",
   "metadata": {},
   "outputs": [
    {
     "name": "stdout",
     "output_type": "stream",
     "text": [
      "100*2 = 10000\n",
      "102*2 = 10404\n",
      "104*2 = 10816\n",
      "106*2 = 11236\n",
      "108*2 = 11664\n",
      "110*2 = 12100\n",
      "112*2 = 12544\n",
      "114*2 = 12996\n",
      "116*2 = 13456\n",
      "118*2 = 13924\n",
      "120*2 = 14400\n",
      "122*2 = 14884\n",
      "124*2 = 15376\n",
      "126*2 = 15876\n",
      "128*2 = 16384\n",
      "130*2 = 16900\n",
      "132*2 = 17424\n",
      "134*2 = 17956\n",
      "136*2 = 18496\n",
      "138*2 = 19044\n",
      "140*2 = 19600\n",
      "142*2 = 20164\n",
      "144*2 = 20736\n",
      "146*2 = 21316\n",
      "148*2 = 21904\n",
      "150*2 = 22500\n",
      "152*2 = 23104\n",
      "154*2 = 23716\n",
      "156*2 = 24336\n",
      "158*2 = 24964\n",
      "160*2 = 25600\n",
      "162*2 = 26244\n",
      "164*2 = 26896\n",
      "166*2 = 27556\n",
      "168*2 = 28224\n",
      "170*2 = 28900\n",
      "172*2 = 29584\n",
      "174*2 = 30276\n",
      "176*2 = 30976\n",
      "178*2 = 31684\n",
      "180*2 = 32400\n",
      "182*2 = 33124\n",
      "184*2 = 33856\n",
      "186*2 = 34596\n",
      "188*2 = 35344\n",
      "190*2 = 36100\n",
      "192*2 = 36864\n",
      "194*2 = 37636\n",
      "196*2 = 38416\n",
      "198*2 = 39204\n"
     ]
    }
   ],
   "source": [
    "for i in range(100,200):\n",
    "    if i % 2 == 0:\n",
    "        square = i**2\n",
    "        print(f\"{i}*2 = {square}\")"
   ]
  },
  {
   "cell_type": "markdown",
   "id": "4e1135d9-7d2d-4a1b-9a4b-0cb09b9311c8",
   "metadata": {},
   "source": [
    "# Exercise 4: Word counter\n",
    "write a program to count the number of words in a given text.\n",
    "example:\n",
    "input_text = \"This is a sample text. This text will be used to demonstrate the word counter.\"\n",
    "Expected output:\n",
    "'This': 2 \n",
    "'is': 1\n",
    "'a': 1\n",
    "'sample': 1\n",
    "'text.': 1"
   ]
  },
  {
   "cell_type": "code",
   "execution_count": 1,
   "id": "32e8797d-54c9-47ab-aadc-082fa1c8fae5",
   "metadata": {},
   "outputs": [
    {
     "name": "stdin",
     "output_type": "stream",
     "text": [
      " my name is vaarshika\n"
     ]
    },
    {
     "name": "stdout",
     "output_type": "stream",
     "text": [
      "'my': 1\n",
      "'name': 1\n",
      "'is': 1\n",
      "'vaarshika': 1\n"
     ]
    }
   ],
   "source": [
    "def count_words(text):\n",
    "    words = text.lower().split()\n",
    "    word_count = {}\n",
    "    for word in words:\n",
    "        if word in word_count:\n",
    "           word_count[word] = 1\n",
    "        else:\n",
    "            word_count[word] = 1\n",
    "    for word, count in word_count.items():\n",
    "        print(f\"'{word}': {count}\")\n",
    "input_text = input()\n",
    "count_words(input_text)"
   ]
  },
  {
   "cell_type": "markdown",
   "id": "54aa0a30-8b26-4a5b-a5a6-8fa5002899c3",
   "metadata": {},
   "source": [
    "# Exercise 5: Check for Palindrome\n",
    "Write a Python function called is_palindrome that takes a string as input and returns True if the string is a palindrome, and False otherwise. A palindrome is a word, phrase, number, or other sequence of characters that reads the same forward and backward, ignoring spaces, punctuation, and capitalization.\n",
    "Example:\n",
    "Input: \"racecar\"\n",
    "Expected Output: True"
   ]
  },
  {
   "cell_type": "code",
   "execution_count": 76,
   "id": "d0542fa3-f0fc-41c4-b54e-120bd9eacddd",
   "metadata": {},
   "outputs": [
    {
     "name": "stdout",
     "output_type": "stream",
     "text": [
      "Yes\n"
     ]
    }
   ],
   "source": [
    "def is_palindrome(s):\n",
    "    return s == s[::-1]\n",
    "s = \"dad\"\n",
    "ans = isPalindrome(s)\n",
    "\n",
    "if ans:\n",
    "    print(\"Yes\")\n",
    "else:\n",
    "    print(\"No\")    "
   ]
  }
 ],
 "metadata": {
  "kernelspec": {
   "display_name": "Python 3 (ipykernel)",
   "language": "python",
   "name": "python3"
  },
  "language_info": {
   "codemirror_mode": {
    "name": "ipython",
    "version": 3
   },
   "file_extension": ".py",
   "mimetype": "text/x-python",
   "name": "python",
   "nbconvert_exporter": "python",
   "pygments_lexer": "ipython3",
   "version": "3.11.7"
  }
 },
 "nbformat": 4,
 "nbformat_minor": 5
}
