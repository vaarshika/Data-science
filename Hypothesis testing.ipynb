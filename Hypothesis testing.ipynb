{
 "cells": [
  {
   "cell_type": "markdown",
   "id": "088edae6-3570-4a1c-82fc-8f8da8e41411",
   "metadata": {},
   "source": [
    "# Question 1"
   ]
  },
  {
   "cell_type": "raw",
   "id": "4d4f6b85-4d01-4955-b83f-afd60dc1a500",
   "metadata": {},
   "source": [
    "Assignment Tasks:\n",
    "1. State the Hypotheses:\n",
    "2. Compute the Chi-Square Statistic:\n",
    "3. Determine the Critical Value:\n",
    "Using the significance level (alpha) of 0.05 and the degrees of freedom (which is the number of categories minus 1)\n",
    "4. Make a Decision:\n",
    "Compare the Chi-Square statistic with the critical value to decide whether to reject the null hypothesis."
   ]
  },
  {
   "cell_type": "raw",
   "id": "7603c83f-ea9e-400c-b6f6-5fe403dcaf3b",
   "metadata": {},
   "source": [
    "Satisfaction ,\tSmart Thermostat\t,Smart Light\tTotal\n",
    "\n",
    "Very Satisfied\t50\t70\t120\n",
    "\n",
    "Satisfied\t80\t100\t180\n",
    "\n",
    "Neutral\t60\t90\t150\n",
    "\n",
    "Unsatisfied\t30\t50\t80\n",
    "\n",
    "Very Unsatisfied\t20\t50\t70\n",
    "\n",
    "Total\t240\t360\t600"
   ]
  },
  {
   "cell_type": "code",
   "execution_count": 2,
   "id": "8df4d158-4f21-4ccc-8aef-a9d5dcda9bd9",
   "metadata": {},
   "outputs": [],
   "source": [
    "#chi_square stat = (observed - expected)**2  / (expected)"
   ]
  },
  {
   "cell_type": "code",
   "execution_count": 3,
   "id": "a926194d-ea81-4077-9617-de0e7f01599b",
   "metadata": {},
   "outputs": [
    {
     "data": {
      "text/html": [
       "<div>\n",
       "<style scoped>\n",
       "    .dataframe tbody tr th:only-of-type {\n",
       "        vertical-align: middle;\n",
       "    }\n",
       "\n",
       "    .dataframe tbody tr th {\n",
       "        vertical-align: top;\n",
       "    }\n",
       "\n",
       "    .dataframe thead tr th {\n",
       "        text-align: left;\n",
       "    }\n",
       "</style>\n",
       "<table border=\"1\" class=\"dataframe\">\n",
       "  <thead>\n",
       "    <tr>\n",
       "      <th></th>\n",
       "      <th>very satisfied</th>\n",
       "      <th>satisfied</th>\n",
       "      <th>neutral</th>\n",
       "      <th>unsatisfied</th>\n",
       "      <th>very unsatisfied</th>\n",
       "    </tr>\n",
       "  </thead>\n",
       "  <tbody>\n",
       "    <tr>\n",
       "      <th>smart_thermostat</th>\n",
       "      <td>50</td>\n",
       "      <td>80</td>\n",
       "      <td>60</td>\n",
       "      <td>30</td>\n",
       "      <td>20</td>\n",
       "    </tr>\n",
       "    <tr>\n",
       "      <th>smart_light</th>\n",
       "      <td>70</td>\n",
       "      <td>100</td>\n",
       "      <td>90</td>\n",
       "      <td>50</td>\n",
       "      <td>50</td>\n",
       "    </tr>\n",
       "  </tbody>\n",
       "</table>\n",
       "</div>"
      ],
      "text/plain": [
       "                 very satisfied satisfied neutral unsatisfied very unsatisfied\n",
       "smart_thermostat             50        80      60          30               20\n",
       "smart_light                  70       100      90          50               50"
      ]
     },
     "execution_count": 3,
     "metadata": {},
     "output_type": "execute_result"
    }
   ],
   "source": [
    "import pandas as pd\n",
    "df = pd.DataFrame([[50,80,60,30,20],[70,100,90,50,50]],index = [['smart_thermostat','smart_light']],\n",
    "                  columns =[['very satisfied','satisfied','neutral','unsatisfied','very unsatisfied']])\n",
    "df"
   ]
  },
  {
   "cell_type": "raw",
   "id": "fd8e98d8-fe67-4643-b005-6d74950ccf00",
   "metadata": {},
   "source": [
    "null hypothesis :there is no significant association between the type of device purchased and the customer's satisfaction level.\n",
    "\n",
    "alternate hypothesis : there is significant association between the type of device purchased and the customer's satisfaction level."
   ]
  },
  {
   "cell_type": "code",
   "execution_count": 4,
   "id": "d2d29591-e2c7-4ef0-beb2-3aec19deb7af",
   "metadata": {},
   "outputs": [
    {
     "data": {
      "text/plain": [
       "Chi2ContingencyResult(statistic=5.638227513227513, pvalue=0.22784371130697179, dof=4, expected_freq=array([[ 48.,  72.,  60.,  32.,  28.],\n",
       "       [ 72., 108.,  90.,  48.,  42.]]))"
      ]
     },
     "execution_count": 4,
     "metadata": {},
     "output_type": "execute_result"
    }
   ],
   "source": [
    "from scipy.stats import chi2_contingency\n",
    "chi2_contingency(df)"
   ]
  },
  {
   "cell_type": "code",
   "execution_count": 5,
   "id": "df591551-9225-41a7-9024-2d45d92bd7ae",
   "metadata": {},
   "outputs": [
    {
     "data": {
      "text/plain": [
       "9.487729036781154"
      ]
     },
     "execution_count": 5,
     "metadata": {},
     "output_type": "execute_result"
    }
   ],
   "source": [
    "from scipy.stats import chi2\n",
    "dof = 4\n",
    "alpha = 0.05\n",
    "critical_value = chi2.ppf(1 - alpha ,dof)\n",
    "critical_value"
   ]
  },
  {
   "cell_type": "code",
   "execution_count": 6,
   "id": "728c4d5d-6d9a-47f9-a8e5-ae4ad7756b65",
   "metadata": {},
   "outputs": [
    {
     "data": {
      "text/plain": [
       "5.638227513227513"
      ]
     },
     "execution_count": 6,
     "metadata": {},
     "output_type": "execute_result"
    }
   ],
   "source": [
    "stat_value = chi2_contingency(df)[0]\n",
    "stat_value"
   ]
  },
  {
   "cell_type": "code",
   "execution_count": 8,
   "id": "6b886868-63d1-4403-abc7-0410bc3d4233",
   "metadata": {},
   "outputs": [
    {
     "data": {
      "text/plain": [
       "0.22784371130697179"
      ]
     },
     "execution_count": 8,
     "metadata": {},
     "output_type": "execute_result"
    }
   ],
   "source": [
    "p_value = chi2_contingency(df)[1]\n",
    "p_value"
   ]
  },
  {
   "cell_type": "code",
   "execution_count": 7,
   "id": "d92a1691-039d-44d9-b080-1d29b1af8335",
   "metadata": {},
   "outputs": [
    {
     "data": {
      "text/plain": [
       "4"
      ]
     },
     "execution_count": 7,
     "metadata": {},
     "output_type": "execute_result"
    }
   ],
   "source": [
    "dof = chi2_contingency(df)[2]\n",
    "dof"
   ]
  },
  {
   "cell_type": "code",
   "execution_count": 9,
   "id": "8cb41a76-2533-44a8-a800-f70c5be4fbc2",
   "metadata": {},
   "outputs": [
    {
     "data": {
      "text/html": [
       "<div>\n",
       "<style scoped>\n",
       "    .dataframe tbody tr th:only-of-type {\n",
       "        vertical-align: middle;\n",
       "    }\n",
       "\n",
       "    .dataframe tbody tr th {\n",
       "        vertical-align: top;\n",
       "    }\n",
       "\n",
       "    .dataframe thead th {\n",
       "        text-align: right;\n",
       "    }\n",
       "</style>\n",
       "<table border=\"1\" class=\"dataframe\">\n",
       "  <thead>\n",
       "    <tr style=\"text-align: right;\">\n",
       "      <th></th>\n",
       "      <th>very satisfied</th>\n",
       "      <th>satisfied</th>\n",
       "      <th>neutral</th>\n",
       "      <th>unsatisfied</th>\n",
       "      <th>very unsatisfied</th>\n",
       "    </tr>\n",
       "  </thead>\n",
       "  <tbody>\n",
       "    <tr>\n",
       "      <th>smart_thermostat</th>\n",
       "      <td>48.0</td>\n",
       "      <td>72.0</td>\n",
       "      <td>60.0</td>\n",
       "      <td>32.0</td>\n",
       "      <td>28.0</td>\n",
       "    </tr>\n",
       "    <tr>\n",
       "      <th>smart_light</th>\n",
       "      <td>72.0</td>\n",
       "      <td>108.0</td>\n",
       "      <td>90.0</td>\n",
       "      <td>48.0</td>\n",
       "      <td>42.0</td>\n",
       "    </tr>\n",
       "  </tbody>\n",
       "</table>\n",
       "</div>"
      ],
      "text/plain": [
       "                  very satisfied  satisfied  neutral  unsatisfied  \\\n",
       "smart_thermostat            48.0       72.0     60.0         32.0   \n",
       "smart_light                 72.0      108.0     90.0         48.0   \n",
       "\n",
       "                  very unsatisfied  \n",
       "smart_thermostat              28.0  \n",
       "smart_light                   42.0  "
      ]
     },
     "execution_count": 9,
     "metadata": {},
     "output_type": "execute_result"
    }
   ],
   "source": [
    "dff=chi2_contingency(df)[3]\n",
    "pd.DataFrame(\n",
    "    data=dff[:,:],\n",
    "    index=['smart_thermostat','smart_light'],\n",
    "    columns=['very satisfied','satisfied','neutral','unsatisfied','very unsatisfied']\n",
    ").round(2)"
   ]
  },
  {
   "cell_type": "code",
   "execution_count": 10,
   "id": "539992bc-78ba-49d1-8cac-895fdf3da4bd",
   "metadata": {},
   "outputs": [
    {
     "name": "stdout",
     "output_type": "stream",
     "text": [
      "5.638227513227513 is less than  9.487729036781154 , null hypothesis is accepted\n"
     ]
    }
   ],
   "source": [
    "if stat_value > critical_value:\n",
    "  print(stat_value,'is greater than',critical_value,',null hypothesis is rejected')\n",
    "else:\n",
    "  print(stat_value,'is less than ',critical_value,', null hypothesis is accepted')"
   ]
  },
  {
   "cell_type": "raw",
   "id": "b0bbe756-337a-4467-acf9-f7607cc1f35c",
   "metadata": {},
   "source": [
    "here , f-stat < f-crit ,null hypothesis accepted.hence there is no significant association between the type of device purchased and the customer's satisfaction level.\n"
   ]
  },
  {
   "cell_type": "markdown",
   "id": "8456977d-1f6c-45a2-a355-db1504cb4b13",
   "metadata": {},
   "source": [
    "# Question 2"
   ]
  },
  {
   "cell_type": "raw",
   "id": "17d8bec3-214c-40df-a7ca-cf2a6d5af759",
   "metadata": {},
   "source": [
    "Assignment Tasks:\n",
    "\n",
    "1. State the Hypotheses statement:\n",
    "\n",
    "2. Calculate the Test Statistic:\n",
    "\n",
    "Use the following formula to calculate the test statistic (t):\n",
    "where:\n",
    "ˉxˉ = sample mean weekly cost (Rs. 3,050)\n",
    "μ = theoretical mean weekly cost according to the cost model (W = $1,000 + $5X for X = 600 units)\n",
    "σ = 5*25 units\n",
    "n = sample size (25 restaurants)\n",
    "\n",
    "3. Determine the Critical Value:\n",
    "Using the alpha level of 5% (α = 0.05), determine the critical value from the standard normal (Z) distribution table.\n",
    "\n",
    "4. Make a Decision:\n",
    "\n",
    "Compare the test statistic with the critical value to decide whether to reject the null hypothesis.\n",
    "\n",
    "5. Conclusion:\n",
    "\n",
    "Based on the decision in step 4, conclude whether there is strong evidence to support the restaurant owners' claim that the weekly operating costs are higher than the model suggests.\n"
   ]
  },
  {
   "cell_type": "markdown",
   "id": "58201cbd-e626-47fa-bdd0-93366e418972",
   "metadata": {},
   "source": [
    "# 1.state the hypothesis\n",
    "Null hypothesis :\n",
    " the cost model is not accurate\n",
    "\n",
    "Alternate hypothesis:\n",
    " the cost model is accurate"
   ]
  },
  {
   "cell_type": "markdown",
   "id": "237bedb6-6626-4b1c-a03b-3d3431e908af",
   "metadata": {},
   "source": [
    "# 2.calculate the Test statatics"
   ]
  },
  {
   "cell_type": "code",
   "execution_count": 12,
   "id": "48202561-1d7c-411e-97d1-1cbf7fab7250",
   "metadata": {},
   "outputs": [],
   "source": [
    "import numpy as np\n",
    "sample_mean = 3500\n",
    "population_mean = 1000 + (5 * 600)\n",
    "population_stdev = (5 * 25)\n",
    "n = 25"
   ]
  },
  {
   "cell_type": "code",
   "execution_count": 13,
   "id": "2a0acf45-ff07-4ea9-811b-00d7b980c0f5",
   "metadata": {},
   "outputs": [
    {
     "data": {
      "text/plain": [
       "-0.625"
      ]
     },
     "execution_count": 13,
     "metadata": {},
     "output_type": "execute_result"
    }
   ],
   "source": [
    "np.set_printoptions(suppress = True)\n",
    "from math import sqrt\n",
    "stat = (sample_mean - population_mean) / (population_mean / sqrt(n))\n",
    "stat"
   ]
  },
  {
   "cell_type": "markdown",
   "id": "e3ad181a-bf84-4514-9718-da5bce63be40",
   "metadata": {},
   "source": [
    "# 3 . Determining the critical value"
   ]
  },
  {
   "cell_type": "code",
   "execution_count": 14,
   "id": "7525e219-d560-45fc-ab94-bcc36acff0ff",
   "metadata": {},
   "outputs": [
    {
     "data": {
      "text/plain": [
       "1.6448536269514722"
      ]
     },
     "execution_count": 14,
     "metadata": {},
     "output_type": "execute_result"
    }
   ],
   "source": [
    "from scipy.stats import  norm\n",
    "dof = 24\n",
    "alpha = 0.05\n",
    "crit = norm.ppf(1 - (alpha))\n",
    "crit"
   ]
  },
  {
   "cell_type": "code",
   "execution_count": 15,
   "id": "5f898184-a083-413c-837e-2ac9a939b9f4",
   "metadata": {},
   "outputs": [
    {
     "data": {
      "text/plain": [
       "0.7340144709512995"
      ]
     },
     "execution_count": 15,
     "metadata": {},
     "output_type": "execute_result"
    }
   ],
   "source": [
    "from scipy.stats import norm\n",
    "p_value = 1 - norm.cdf(stat)\n",
    "p_value"
   ]
  },
  {
   "cell_type": "markdown",
   "id": "b3d50ca4-3716-48c2-a909-90912708c582",
   "metadata": {},
   "source": [
    "# 4.make a decision"
   ]
  },
  {
   "cell_type": "raw",
   "id": "6f8bf3dc-c2bb-4356-a0e4-33774605310c",
   "metadata": {},
   "source": [
    "here we conclude that ,we accept null hypothesis in two cases\n",
    "\n",
    "1. stat value < crit vale , so we accept null hypothesis\n",
    "\n",
    "2. p value > 0.05, so we accept null hypothesis"
   ]
  },
  {
   "cell_type": "markdown",
   "id": "a11c2ff7-36e9-49ee-a9b4-5f7a8e894746",
   "metadata": {},
   "source": [
    "# 5.conculusion"
   ]
  },
  {
   "cell_type": "raw",
   "id": "079e06ef-1caf-4470-946a-c4210c0ed93a",
   "metadata": {},
   "source": [
    "we conclude that there is strong evidence to support the restaurant owners' claim that the weekly operating costs are higher than the model suggests."
   ]
  }
 ],
 "metadata": {
  "kernelspec": {
   "display_name": "Python 3 (ipykernel)",
   "language": "python",
   "name": "python3"
  },
  "language_info": {
   "codemirror_mode": {
    "name": "ipython",
    "version": 3
   },
   "file_extension": ".py",
   "mimetype": "text/x-python",
   "name": "python",
   "nbconvert_exporter": "python",
   "pygments_lexer": "ipython3",
   "version": "3.11.7"
  }
 },
 "nbformat": 4,
 "nbformat_minor": 5
}
