{
 "cells": [
  {
   "cell_type": "markdown",
   "id": "6fd624a7-1e63-4ac0-8119-8c365a3086b7",
   "metadata": {},
   "source": [
    "# Data"
   ]
  },
  {
   "cell_type": "raw",
   "id": "77aa3a75-7775-4642-9ae6-6ba8762c8485",
   "metadata": {},
   "source": [
    "A total of 15 print-heads were randomly selected and tested until failure. The durability of each print-head (in millions of characters) was recorded as follows:\n",
    "1.13, 1.55, 1.43, 0.92, 1.25, 1.36, 1.32, 0.85, 1.07, 1.48, 1.20, 1.33, 1.18, 1.22, 1.29\n"
   ]
  },
  {
   "cell_type": "code",
   "execution_count": 1,
   "id": "069b4a12-c5b7-4c3d-8dfb-4289f6da85cf",
   "metadata": {},
   "outputs": [
    {
     "data": {
      "text/plain": [
       "0     1.13\n",
       "1     1.55\n",
       "2     1.43\n",
       "3     0.92\n",
       "4     1.25\n",
       "5     1.36\n",
       "6     1.32\n",
       "7     0.85\n",
       "8     1.07\n",
       "9     1.48\n",
       "10    1.20\n",
       "11    1.33\n",
       "12    1.18\n",
       "13    1.22\n",
       "14    1.29\n",
       "dtype: float64"
      ]
     },
     "execution_count": 1,
     "metadata": {},
     "output_type": "execute_result"
    }
   ],
   "source": [
    "import pandas as pd\n",
    "data = pd.Series([1.13, 1.55, 1.43, 0.92, 1.25, 1.36, 1.32, 0.85, 1.07, 1.48, 1.20, 1.33, 1.18, 1.22, 1.29])\n",
    "data"
   ]
  },
  {
   "cell_type": "markdown",
   "id": "ed2f789d-062a-42b4-a396-c014b3708400",
   "metadata": {},
   "source": [
    "# a. Build 99% Confidence Interval Using Sample Standard Deviation"
   ]
  },
  {
   "cell_type": "raw",
   "id": "914e645b-dbc3-4e06-94ab-937eeaa05621",
   "metadata": {},
   "source": [
    "CI = Sample mean +- (t-value * std error)\n",
    "\n",
    "margin of error = (t-value * std error)\n",
    "\n",
    "std error = sample stdev / sqrt (N)"
   ]
  },
  {
   "cell_type": "code",
   "execution_count": 3,
   "id": "21387174-e9d7-47e0-b1d2-db64370f8d7e",
   "metadata": {},
   "outputs": [
    {
     "name": "stdout",
     "output_type": "stream",
     "text": [
      "the sample mean of given data :  1.2386666666666666\n",
      "the sample standard deviation of given data :  0.19316412956959936\n",
      "number of observations : 15\n",
      "standard error :  0.04987476379384733\n",
      "margin of error: 0.1308960216979201\n",
      "-------\n",
      "the 99 % confidence interval range between 1.1077706449687466 and 1.3695626883645866\n"
     ]
    }
   ],
   "source": [
    "from math import sqrt\n",
    "from scipy.stats import t\n",
    "sample_mean = data.mean()\n",
    "print('the sample mean of given data : ' ,sample_mean)\n",
    "sample_stdev = data.std()\n",
    "print('the sample standard deviation of given data : ',sample_stdev)\n",
    "n = len(data)\n",
    "print('number of observations :',n)\n",
    "std_error = sample_stdev / sqrt(n)\n",
    "print('standard error : ',std_error)\n",
    "confidence_level = 0.99 # 99%\n",
    "margin_of_error = std_error * t.ppf(confidence_level,n-1)\n",
    "print('margin of error:', margin_of_error)\n",
    "print('-------')\n",
    "CI_UP = sample_mean + margin_of_error\n",
    "CI_LL = sample_mean - margin_of_error\n",
    "\n",
    "print('the 99 % confidence interval range between',CI_LL,'and',CI_UP)"
   ]
  },
  {
   "cell_type": "markdown",
   "id": "e6cc352b-72a6-4687-b2b1-27718d14901d",
   "metadata": {},
   "source": [
    "# b. Build 99% Confidence Interval Using Known Population Standard Deviation."
   ]
  },
  {
   "cell_type": "raw",
   "id": "d2546ab7-dc0f-4274-b85b-755834a80a96",
   "metadata": {},
   "source": [
    "CI = Point estimnate +- margin of error\n",
    "\n",
    "point estimate = sample mean\n",
    "\n",
    "margin of error = z-value * std error\n",
    "\n",
    "std error = population stdev / sqrt (n)"
   ]
  },
  {
   "cell_type": "code",
   "execution_count": 4,
   "id": "52c06039-bbec-43c6-b3f1-f57d3be22310",
   "metadata": {},
   "outputs": [
    {
     "name": "stdout",
     "output_type": "stream",
     "text": [
      "the sample mean of given data :  1.2386666666666666\n",
      "the sample standard deviation of given data :  0.2\n",
      "number of observations : 15\n",
      "standard error :  0.04987476379384733\n",
      "margin of error: 0.8142727438339685\n",
      "-------\n",
      "the 99 % confidence interval range between 0.42439392283269806 and 2.052939410500635\n"
     ]
    }
   ],
   "source": [
    "#population standard deviation is given\n",
    "from math import sqrt\n",
    "from scipy.stats import norm\n",
    "sample_mean = data.mean()\n",
    "print('the sample mean of given data : ' ,sample_mean)\n",
    "population_stdev = 0.2\n",
    "print('the sample standard deviation of given data : ',population_stdev)\n",
    "n = len(data)\n",
    "print('number of observations :',n)\n",
    "std_error = sample_stdev / sqrt(n)\n",
    "print('standard error : ',std_error)\n",
    "confidence_level = 0.99 # 99%\n",
    "margin_of_error = std_error * norm.ppf(confidence_level, n - 1)\n",
    "print('margin of error:', margin_of_error)\n",
    "print('-------')\n",
    "CI_UP = sample_mean + margin_of_error\n",
    "CI_LL = sample_mean - margin_of_error\n",
    "\n",
    "print('the 99 % confidence interval range between',CI_LL,'and',CI_UP)"
   ]
  }
 ],
 "metadata": {
  "kernelspec": {
   "display_name": "Python 3 (ipykernel)",
   "language": "python",
   "name": "python3"
  },
  "language_info": {
   "codemirror_mode": {
    "name": "ipython",
    "version": 3
   },
   "file_extension": ".py",
   "mimetype": "text/x-python",
   "name": "python",
   "nbconvert_exporter": "python",
   "pygments_lexer": "ipython3",
   "version": "3.11.7"
  }
 },
 "nbformat": 4,
 "nbformat_minor": 5
}
